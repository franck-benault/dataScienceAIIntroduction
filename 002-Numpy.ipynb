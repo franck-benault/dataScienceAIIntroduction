{
 "cells": [
  {
   "cell_type": "markdown",
   "id": "0ac2d3cb-60db-4237-bc30-fa8ed8fed195",
   "metadata": {
    "jp-MarkdownHeadingCollapsed": true
   },
   "source": [
    "# Imports"
   ]
  },
  {
   "cell_type": "code",
   "execution_count": null,
   "id": "bda9ee56-222c-43e3-ac06-249c5ca447c6",
   "metadata": {},
   "outputs": [],
   "source": [
    "# hiding the warnings\n",
    "\n",
    "import warnings\n",
    "warnings.filterwarnings('ignore')\n",
    "\n",
    "print('done')"
   ]
  },
  {
   "cell_type": "code",
   "execution_count": null,
   "id": "b6c48c8f-87e8-4989-8a40-3b06ff4cfe18",
   "metadata": {},
   "outputs": [],
   "source": [
    "import numpy as np\n",
    "import pandas as pd\n",
    "\n",
    "import matplotlib.pyplot as plt\n",
    "import seaborn\n",
    "\n",
    "\n",
    "print('done')"
   ]
  },
  {
   "cell_type": "markdown",
   "id": "0098795b-1aa0-4091-bdc7-6b0bcb2947ef",
   "metadata": {
    "jp-MarkdownHeadingCollapsed": true
   },
   "source": [
    "# Random values generations"
   ]
  },
  {
   "cell_type": "markdown",
   "id": "8fa276a0-685d-452d-855a-c8f53b8ad27c",
   "metadata": {
    "jp-MarkdownHeadingCollapsed": true
   },
   "source": [
    "## Noises"
   ]
  },
  {
   "cell_type": "code",
   "execution_count": null,
   "id": "e0b28a58-9dff-4cec-b5e2-f5794aee1524",
   "metadata": {},
   "outputs": [],
   "source": [
    "noise1 = np.random.normal(0,1,100)\n",
    "print('done')"
   ]
  },
  {
   "cell_type": "code",
   "execution_count": null,
   "id": "d5504c8d-9512-4994-a905-25d6a3cbefd0",
   "metadata": {},
   "outputs": [],
   "source": [
    "noise1df = pd.DataFrame(noise1)\n",
    "noise1df.hist(bins=15)\n",
    "plt.show()"
   ]
  },
  {
   "cell_type": "code",
   "execution_count": null,
   "id": "f064f040-b0e1-4901-950f-c807738a1481",
   "metadata": {},
   "outputs": [],
   "source": [
    "noise2 = np.random.lognormal(0,1,100)\n",
    "print('done')"
   ]
  },
  {
   "cell_type": "code",
   "execution_count": null,
   "id": "371bc2e2-2639-4df3-89d6-32cff153f7b1",
   "metadata": {},
   "outputs": [],
   "source": [
    "noise2df = pd.DataFrame(noise2)\n",
    "noise2df.hist(bins=15)\n",
    "plt.show()"
   ]
  },
  {
   "cell_type": "code",
   "execution_count": null,
   "id": "5e70be5a-b506-446c-b3d0-997d1e9242e2",
   "metadata": {},
   "outputs": [],
   "source": [
    "df = pd.DataFrame({'noise1':noise1, 'noise2':noise2})\n",
    "df.plot('noise1', 'noise2', kind='scatter')"
   ]
  },
  {
   "cell_type": "code",
   "execution_count": null,
   "id": "3951f5cd-1da2-4a43-b9c2-6535fb5bf8e6",
   "metadata": {},
   "outputs": [],
   "source": [
    "noise1 = np.random.normal(0,1,500)\n",
    "noise2 = np.random.normal(0,1,500)\n",
    "noise3 = np.random.normal(0,1,500)\n",
    "noise4 = np.random.normal(0,1,500)\n",
    "\n",
    "df = pd.DataFrame({'noise1':noise1, 'noise2':noise2, 'noise3':noise3, 'noise4':noise4})\n",
    "\n",
    "# This pairplot shows that there is no correlation\n",
    "seaborn.pairplot(df)\n",
    "plt.show()"
   ]
  },
  {
   "cell_type": "code",
   "execution_count": null,
   "id": "ebfb4211-4dc8-4abc-a9cc-40d9bd8e57e3",
   "metadata": {},
   "outputs": [],
   "source": [
    "# Create 2 correlated variable\n",
    "means = [0,0]  \n",
    "stds = [1,1]\n",
    "corr = 0.8         # correlation\n",
    "covs = [[stds[0]**2          , stds[0]*stds[1]*corr], \n",
    "        [stds[0]*stds[1]*corr,           stds[1]**2]] \n",
    "\n",
    "m = np.random.multivariate_normal(means, covs, 500).T\n",
    "plt.scatter(m[0], m[1])"
   ]
  },
  {
   "cell_type": "markdown",
   "id": "4240d32e-d749-45b1-afc1-53a89c02b33c",
   "metadata": {
    "jp-MarkdownHeadingCollapsed": true
   },
   "source": [
    "## Choice and Choices (random values from a category)"
   ]
  },
  {
   "cell_type": "code",
   "execution_count": null,
   "id": "cfd9f0c1-1854-4faa-a8cd-99e8857487e0",
   "metadata": {},
   "outputs": [],
   "source": [
    "import random\n",
    "\n",
    "mylist = [\"Cat1\", \"Cat2\", \"Cat3\"]\n",
    "\n",
    "print(random.choice(mylist)) "
   ]
  },
  {
   "cell_type": "code",
   "execution_count": null,
   "id": "be539d39-91de-4222-85e1-b381009e255c",
   "metadata": {
    "scrolled": true
   },
   "outputs": [],
   "source": [
    "import random\n",
    "\n",
    "mylist = [\"Cat1\", \"Cat2\", \"Cat3\"]\n",
    "\n",
    "categories=random.choices(mylist,weights = [7, 1, 2], k = 100)\n",
    "\n",
    "df = pd.DataFrame({'Cat':categories})\n",
    "print(df.Cat.value_counts())\n"
   ]
  },
  {
   "cell_type": "code",
   "execution_count": null,
   "id": "37198580-ae4d-4161-a5bd-8109e1ef3cc8",
   "metadata": {},
   "outputs": [],
   "source": []
  }
 ],
 "metadata": {
  "kernelspec": {
   "display_name": "Python 3 (ipykernel)",
   "language": "python",
   "name": "python3"
  },
  "language_info": {
   "codemirror_mode": {
    "name": "ipython",
    "version": 3
   },
   "file_extension": ".py",
   "mimetype": "text/x-python",
   "name": "python",
   "nbconvert_exporter": "python",
   "pygments_lexer": "ipython3",
   "version": "3.12.4"
  }
 },
 "nbformat": 4,
 "nbformat_minor": 5
}
