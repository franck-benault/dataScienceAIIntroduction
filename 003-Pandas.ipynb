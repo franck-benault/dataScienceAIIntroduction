{
 "cells": [
  {
   "cell_type": "markdown",
   "id": "7c00122c-3128-4dfc-bce0-adefe2a1cfcd",
   "metadata": {
    "jp-MarkdownHeadingCollapsed": true
   },
   "source": [
    "# Pandas import"
   ]
  },
  {
   "cell_type": "code",
   "execution_count": null,
   "id": "b105fd75-30f8-4e6a-aee3-13181c18e4ec",
   "metadata": {},
   "outputs": [],
   "source": [
    "# hiding the warnings\n",
    "\n",
    "import warnings\n",
    "warnings.filterwarnings('ignore')\n",
    "\n",
    "print('done')"
   ]
  },
  {
   "cell_type": "code",
   "execution_count": null,
   "id": "09cbf163-1aaa-416f-97cb-f51fb28dc6eb",
   "metadata": {},
   "outputs": [],
   "source": [
    "import pandas as pd\n",
    "\n",
    "import matplotlib.pyplot as plt\n",
    "import seaborn\n",
    "\n",
    "print('done')"
   ]
  },
  {
   "cell_type": "markdown",
   "id": "b0f8d91a-737d-45d4-8d0c-f6cab1dbbdc7",
   "metadata": {
    "jp-MarkdownHeadingCollapsed": true
   },
   "source": [
    "# Pandas DataFrame basic commands"
   ]
  },
  {
   "cell_type": "code",
   "execution_count": null,
   "id": "0531e83e-3158-46a0-957a-4e91582ff116",
   "metadata": {},
   "outputs": [],
   "source": [
    "myDataFrame = pd.DataFrame({\n",
    "    'Foo1': [3.7, 8.7, 3.4, 2.4, 1.9,1.3],\n",
    "    'Foo2': [4.24, 2.67, 7.6, 7.1, 4.9,5.4],\n",
    "    'Foo3': [4.34, 3.67, 7.6, 7.1, 4.9,5.4],\n",
    "    'Foo4': [4.34, 3.47, 3.6, 7.1, 4.9,5.4],\n",
    "    'Foo5': [True, True, False, False, False,True]\n",
    "})\n",
    "\n",
    "print('done')"
   ]
  },
  {
   "cell_type": "code",
   "execution_count": null,
   "id": "3fd5d81c-df30-41c0-9bea-1f8e9f3dc4b3",
   "metadata": {},
   "outputs": [],
   "source": [
    "myDataFrame.head()"
   ]
  },
  {
   "cell_type": "code",
   "execution_count": null,
   "id": "18dbd00a-af0c-41a7-a745-5224bb5b88b4",
   "metadata": {},
   "outputs": [],
   "source": [
    "myDataFrame.info()"
   ]
  },
  {
   "cell_type": "code",
   "execution_count": null,
   "id": "c2333586-5f14-4580-95d3-580fd97824a3",
   "metadata": {},
   "outputs": [],
   "source": [
    "myDataFrame.describe()"
   ]
  },
  {
   "cell_type": "markdown",
   "id": "84071ddf-a49b-409c-b86a-cea5ebf14717",
   "metadata": {
    "jp-MarkdownHeadingCollapsed": true
   },
   "source": [
    "# Pandas DataFrame basic diagrams"
   ]
  },
  {
   "cell_type": "markdown",
   "id": "3b117010-bbb3-4b11-8cc0-c7ebbc2cb71c",
   "metadata": {},
   "source": [
    "## histogram"
   ]
  },
  {
   "cell_type": "code",
   "execution_count": null,
   "id": "4feb5d5f-7b93-4026-b20b-986ca29b0bc2",
   "metadata": {},
   "outputs": [],
   "source": [
    "myDataFrame.hist(bins=4)\n",
    "plt.show()"
   ]
  },
  {
   "cell_type": "markdown",
   "id": "3dc9e490-ce59-4ae2-8f21-26da928f8eef",
   "metadata": {
    "jp-MarkdownHeadingCollapsed": true
   },
   "source": [
    "# Advanced diagram with seaborn"
   ]
  },
  {
   "cell_type": "code",
   "execution_count": null,
   "id": "5cc7944d-a6f3-4bff-987e-accd8f6bc412",
   "metadata": {},
   "outputs": [],
   "source": [
    "# Correlation diagram\n",
    "\n",
    "seaborn.pairplot(myDataFrame)\n",
    "plt.show()"
   ]
  },
  {
   "cell_type": "code",
   "execution_count": null,
   "id": "9ec3716c-7b06-4536-9f54-d54bf978f91e",
   "metadata": {},
   "outputs": [],
   "source": [
    "\n",
    "df = seaborn.load_dataset('tips')\n",
    "seaborn.pairplot(df, hue ='day')\n",
    "plt.show()"
   ]
  },
  {
   "cell_type": "code",
   "execution_count": null,
   "id": "dc508ffe-cd2d-47d7-be71-f9fd8deac3f1",
   "metadata": {},
   "outputs": [],
   "source": []
  }
 ],
 "metadata": {
  "kernelspec": {
   "display_name": "Python 3 (ipykernel)",
   "language": "python",
   "name": "python3"
  },
  "language_info": {
   "codemirror_mode": {
    "name": "ipython",
    "version": 3
   },
   "file_extension": ".py",
   "mimetype": "text/x-python",
   "name": "python",
   "nbconvert_exporter": "python",
   "pygments_lexer": "ipython3",
   "version": "3.12.4"
  }
 },
 "nbformat": 4,
 "nbformat_minor": 5
}
