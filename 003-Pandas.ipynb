{
 "cells": [
  {
   "cell_type": "markdown",
   "id": "7c00122c-3128-4dfc-bce0-adefe2a1cfcd",
   "metadata": {
    "jp-MarkdownHeadingCollapsed": true
   },
   "source": [
    "# Pandas import"
   ]
  },
  {
   "cell_type": "code",
   "execution_count": null,
   "id": "b105fd75-30f8-4e6a-aee3-13181c18e4ec",
   "metadata": {},
   "outputs": [],
   "source": [
    "# hiding the warnings\n",
    "\n",
    "import warnings\n",
    "warnings.filterwarnings('ignore')\n",
    "\n",
    "print('done')"
   ]
  },
  {
   "cell_type": "code",
   "execution_count": null,
   "id": "09cbf163-1aaa-416f-97cb-f51fb28dc6eb",
   "metadata": {},
   "outputs": [],
   "source": [
    "import pandas as pd\n",
    "\n",
    "import matplotlib.pyplot as plt\n",
    "import seaborn\n",
    "\n",
    "print('done')"
   ]
  },
  {
   "cell_type": "markdown",
   "id": "b0f8d91a-737d-45d4-8d0c-f6cab1dbbdc7",
   "metadata": {
    "jp-MarkdownHeadingCollapsed": true
   },
   "source": [
    "# Pandas DataFrame basic commands"
   ]
  },
  {
   "cell_type": "code",
   "execution_count": null,
   "id": "0531e83e-3158-46a0-957a-4e91582ff116",
   "metadata": {},
   "outputs": [],
   "source": [
    "myDataFrame = pd.DataFrame({\n",
    "    'Foo1': [-3.7, -3.7, -5.4, -6.4, -4.9,-5.3,-7.3],\n",
    "    'Foo2': [4.24, 2.67, 7.6, 7.1, 4.9,5.4, 6.6],\n",
    "    'Foo3': [4.34, 3.67, 7.6, 7.1, 4.9,5.4, 6.5],\n",
    "    'Foo4': [4.34, 3.47, 5.6, 7.1, 4.9,5.4, 6.4],\n",
    "    'Foo5': [False, False, True, True, False,True,True]\n",
    "})\n",
    "\n",
    "print('done')"
   ]
  },
  {
   "cell_type": "code",
   "execution_count": null,
   "id": "3fd5d81c-df30-41c0-9bea-1f8e9f3dc4b3",
   "metadata": {},
   "outputs": [],
   "source": [
    "myDataFrame.head()"
   ]
  },
  {
   "cell_type": "code",
   "execution_count": null,
   "id": "18dbd00a-af0c-41a7-a745-5224bb5b88b4",
   "metadata": {},
   "outputs": [],
   "source": [
    "myDataFrame.info()"
   ]
  },
  {
   "cell_type": "code",
   "execution_count": null,
   "id": "c2333586-5f14-4580-95d3-580fd97824a3",
   "metadata": {},
   "outputs": [],
   "source": [
    "myDataFrame.describe()"
   ]
  },
  {
   "cell_type": "markdown",
   "id": "84071ddf-a49b-409c-b86a-cea5ebf14717",
   "metadata": {
    "jp-MarkdownHeadingCollapsed": true
   },
   "source": [
    "# Pandas DataFrame basic diagrams"
   ]
  },
  {
   "cell_type": "markdown",
   "id": "3b117010-bbb3-4b11-8cc0-c7ebbc2cb71c",
   "metadata": {
    "jp-MarkdownHeadingCollapsed": true
   },
   "source": [
    "## Histogram"
   ]
  },
  {
   "cell_type": "code",
   "execution_count": null,
   "id": "4feb5d5f-7b93-4026-b20b-986ca29b0bc2",
   "metadata": {},
   "outputs": [],
   "source": [
    "myDataFrame.hist(bins=4)\n",
    "plt.show()"
   ]
  },
  {
   "cell_type": "markdown",
   "id": "4672a5a7-9293-4074-9647-d565ea2023b6",
   "metadata": {
    "jp-MarkdownHeadingCollapsed": true
   },
   "source": [
    "## Basic diagrams with Pandas"
   ]
  },
  {
   "cell_type": "code",
   "execution_count": null,
   "id": "d6825522-fecf-4231-92fb-d05d184bba45",
   "metadata": {},
   "outputs": [],
   "source": [
    "# Plot a line graph\n",
    "# Sample data\n",
    "data = {\n",
    "    \"Years\": [2020, 2021, 2022, 2023],\n",
    "    \"Values\": [5, 6, 4, 7]\n",
    "}\n",
    "tempDf = pd.DataFrame(data)\n",
    "\n",
    "\n",
    "tempDf.plot(x=\"Years\", y=\"Values\", kind=\"line\", title=\"Value following the year\", legend=True,color='red')\n",
    "plt.show()"
   ]
  },
  {
   "cell_type": "code",
   "execution_count": null,
   "id": "ef56cef5-ef68-4036-887d-ab79755234fc",
   "metadata": {},
   "outputs": [],
   "source": [
    "# Plot a bar plot\n",
    "\n",
    "# Sample data\n",
    "data = {\n",
    "    \"Country\": [\"FR\", \"BE\", \"NL\", \"IT\"],\n",
    "    \"Values\": [5, 7, 2, 8]\n",
    "}\n",
    "tempDf = pd.DataFrame(data)\n",
    "\n",
    "# Create subplots for vertical and horizontal bar plots\n",
    "tempDf.plot(x=\"Country\", y=\"Values\", kind=\"bar\", subplots=True, layout=(2, 1), figsize=(12, 6), title=\"Vertical and Horizontal Bar Plots\")\n",
    "\n",
    "# Horizontal bar plot using kind='barh'\n",
    "tempDf.plot(x=\"Country\", y=\"Values\", kind=\"barh\", subplots=True)"
   ]
  },
  {
   "cell_type": "code",
   "execution_count": null,
   "id": "32ba862c-2886-4846-a053-4a53c4bd3b88",
   "metadata": {},
   "outputs": [],
   "source": [
    "# Plot an histogram but\n",
    "\n",
    "# Sample data\n",
    "data = {\n",
    "    \"Country\": [\"FR\", \"BE\", \"NL\", \"IT\",\"FR\",\"DE\",\"BE\", \"BE\"]\n",
    "}\n",
    "tempDf = pd.DataFrame(data)\n",
    "\n",
    "print(tempDf.Country.value_counts().sort_index())\n",
    "tempDf.Country.value_counts().sort_index().plot(kind='hist')\n",
    "plt.show()"
   ]
  },
  {
   "cell_type": "markdown",
   "id": "3dc9e490-ce59-4ae2-8f21-26da928f8eef",
   "metadata": {
    "jp-MarkdownHeadingCollapsed": true
   },
   "source": [
    "# Advanced diagram with seaborn"
   ]
  },
  {
   "cell_type": "code",
   "execution_count": null,
   "id": "5cc7944d-a6f3-4bff-987e-accd8f6bc412",
   "metadata": {},
   "outputs": [],
   "source": [
    "# Correlation diagram\n",
    "\n",
    "seaborn.pairplot(myDataFrame)\n",
    "plt.show()"
   ]
  },
  {
   "cell_type": "code",
   "execution_count": null,
   "id": "9ec3716c-7b06-4536-9f54-d54bf978f91e",
   "metadata": {},
   "outputs": [],
   "source": [
    "\n",
    "df = seaborn.load_dataset('tips')\n",
    "seaborn.pairplot(df, hue ='day')\n",
    "plt.show()"
   ]
  },
  {
   "cell_type": "markdown",
   "id": "f1b013ed-cecc-4889-aefb-dd49aeb7e964",
   "metadata": {
    "jp-MarkdownHeadingCollapsed": true
   },
   "source": [
    "# Correlation"
   ]
  },
  {
   "cell_type": "code",
   "execution_count": null,
   "id": "ba0de49b-a422-4626-8c28-9d37c5c73991",
   "metadata": {},
   "outputs": [],
   "source": [
    "myDataFrame.corr()"
   ]
  },
  {
   "cell_type": "code",
   "execution_count": null,
   "id": "ebc968a8-200b-4ac2-8ccf-0fb3d2342ef8",
   "metadata": {},
   "outputs": [],
   "source": [
    "from pandas.plotting import scatter_matrix\n",
    "attributes=[\"Foo1\",\"Foo2\",\"Foo3\",\"Foo4\"]\n",
    "scatter_matrix(myDataFrame[attributes], figsize=(12,8))\n",
    "plt.show()"
   ]
  },
  {
   "cell_type": "code",
   "execution_count": null,
   "id": "32be30a1-5ac2-4f00-adb9-a90a5b6c9f9f",
   "metadata": {},
   "outputs": [],
   "source": []
  }
 ],
 "metadata": {
  "kernelspec": {
   "display_name": "Python 3 (ipykernel)",
   "language": "python",
   "name": "python3"
  },
  "language_info": {
   "codemirror_mode": {
    "name": "ipython",
    "version": 3
   },
   "file_extension": ".py",
   "mimetype": "text/x-python",
   "name": "python",
   "nbconvert_exporter": "python",
   "pygments_lexer": "ipython3",
   "version": "3.12.4"
  }
 },
 "nbformat": 4,
 "nbformat_minor": 5
}
