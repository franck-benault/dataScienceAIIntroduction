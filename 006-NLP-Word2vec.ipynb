{
 "cells": [
  {
   "cell_type": "code",
   "execution_count": null,
   "id": "0440717e-699f-4abc-af38-0fdb5ec3c619",
   "metadata": {},
   "outputs": [],
   "source": [
    "from gensim.models import Word2Vec\n",
    "import nltk\n",
    "import gensim\n",
    "from nltk.tokenize import sent_tokenize, word_tokenize\n",
    "nltk.download('punkt_tab')\n",
    "import warnings\n",
    "\n",
    "warnings.filterwarnings(action='ignore')"
   ]
  },
  {
   "cell_type": "code",
   "execution_count": null,
   "id": "2a901d28-24c7-4897-acd6-2d4f44501e20",
   "metadata": {
    "scrolled": true
   },
   "outputs": [],
   "source": [
    "data = []\n",
    "cleaned_text=\"\"\"C’est au cœur du quartier de l’île Saint-Géry, \n",
    "formé par la Senne et sur lequel aurait été construit un premier donjon vers 979, \n",
    "qu’on situe l’origine de la ville. Aujourd’hui, le quartier autour des Halles Saint-Géry, \n",
    "ancien marché couvert, est l’un des quartiers branchés de la capitale. \n",
    "Le quartier du centre conserve quelques vestiges de la première enceinte de Bruxelles du XIIIe siècle, \n",
    "qui englobait le premier port de Senne, la collégiale romane, \n",
    "remplacée ultérieurement par la cathédrale Saints-Michel-et-Gudule, \n",
    "et le château ducal du Coudenberg (Quartier royal). \n",
    "Au centre de ce triangle se trouvent la Grand-Place de Bruxelles, \n",
    "le quartier de l’Îlot Sacré (qui tire son nom de sa résistance aux projets de démolition), \n",
    "lui-même traversé par les Galeries royales Saint-Hubert, \n",
    "le Quartier Saint-Jacques qui accueillait les pèlerins en route vers Compostelle et le quartier de la Bourse, \n",
    "construit à l’emplacement d’un ancien couvent dont les vestiges ont été mis au jour.\"\"\"\n",
    "\n",
    "for i in sent_tokenize(cleaned_text):\n",
    "    temp = []\n",
    "\n",
    "    # tokenize the sentence into words\n",
    "    for j in word_tokenize(i):\n",
    "        temp.append(j.lower())\n",
    "\n",
    "    data.append(temp)\n",
    "print(data)"
   ]
  },
  {
   "cell_type": "code",
   "execution_count": null,
   "id": "a53c3b5d-9457-4827-8378-16e6fd0f33ed",
   "metadata": {},
   "outputs": [],
   "source": [
    "# Create CBOW model\n",
    "model1 = gensim.models.Word2Vec(data, min_count=1,\n",
    "                                vector_size=100, window=5)"
   ]
  },
  {
   "cell_type": "code",
   "execution_count": null,
   "id": "9714433d-9575-4ae7-8fbb-dde4c84e13b2",
   "metadata": {},
   "outputs": [],
   "source": [
    "# Create Skip Gram model\n",
    "model2 = gensim.models.Word2Vec(data, min_count=1, vector_size=100,\n",
    "                                window=5, sg=1)"
   ]
  },
  {
   "cell_type": "code",
   "execution_count": null,
   "id": "4093fbc4-cdc4-4c37-b820-d7aad28a9ad8",
   "metadata": {},
   "outputs": [],
   "source": [
    "print(\"Cosine similarity between 'alice' \" +\n",
    "      \"and 'wonderland' - CBOW : \",\n",
    "      model1.wv.similarity('quartier', 'été'))\n",
    "\n",
    "print(\"Cosine similarity between 'alice' \" +\n",
    "      \"and 'machines' - CBOW : \",\n",
    "      model1.wv.similarity('quartier', 'vestiges'))"
   ]
  },
  {
   "cell_type": "code",
   "execution_count": null,
   "id": "7585db65-51f5-4d8f-a938-58399eaba5ff",
   "metadata": {},
   "outputs": [],
   "source": [
    "print(\"Cosine similarity between 'alice' \" +\n",
    "      \"and 'wonderland' - CBOW : \",\n",
    "      model2.wv.similarity('quartier', 'été'))\n",
    "\n",
    "print(\"Cosine similarity between 'alice' \" +\n",
    "      \"and 'machines' - CBOW : \",\n",
    "      model2.wv.similarity('quartier', 'vestiges'))"
   ]
  }
 ],
 "metadata": {
  "kernelspec": {
   "display_name": "Python 3 (ipykernel)",
   "language": "python",
   "name": "python3"
  },
  "language_info": {
   "codemirror_mode": {
    "name": "ipython",
    "version": 3
   },
   "file_extension": ".py",
   "mimetype": "text/x-python",
   "name": "python",
   "nbconvert_exporter": "python",
   "pygments_lexer": "ipython3",
   "version": "3.12.4"
  }
 },
 "nbformat": 4,
 "nbformat_minor": 5
}
