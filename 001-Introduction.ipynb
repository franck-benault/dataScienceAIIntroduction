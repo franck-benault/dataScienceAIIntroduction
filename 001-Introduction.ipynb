{
 "cells": [
  {
   "cell_type": "code",
   "execution_count": null,
   "id": "f7f58b57-f81b-473d-ab66-6cc25e0c51ff",
   "metadata": {},
   "outputs": [],
   "source": [
    "# hiding the warnings\n",
    "\n",
    "import warnings\n",
    "warnings.filterwarnings('ignore')\n",
    "\n",
    "print('done')"
   ]
  },
  {
   "cell_type": "code",
   "execution_count": null,
   "id": "7ec9301c-c07e-46bb-9a27-cf51cc6ec10f",
   "metadata": {},
   "outputs": [],
   "source": [
    "# Check the version of the lbraries\n",
    "\n",
    "import numpy as np\n",
    "import pandas as pd\n",
    "import matplotlib\n",
    "import seaborn as sns\n",
    "import sklearn\n",
    "\n",
    "print('Basic Packages')\n",
    "print('Numpy Version ',np.__version__)\n",
    "print('Pandas Version ',pd.__version__)\n",
    "print('-------------------------------------')\n",
    "print('Diagram Packages')\n",
    "print('Matplotlib Version ',matplotlib.__version__)\n",
    "print('Seaborn Version ',sns.__version__)\n",
    "print('-------------------------------------')\n",
    "print('Machine learning')\n",
    "print('Sklearn Version ',sklearn.__version__)\n",
    "\n",
    "print('done')"
   ]
  },
  {
   "cell_type": "code",
   "execution_count": null,
   "id": "cc6d67c0-46c7-4f8b-808c-b6276bf5b9f1",
   "metadata": {},
   "outputs": [],
   "source": []
  }
 ],
 "metadata": {
  "kernelspec": {
   "display_name": "Python 3 (ipykernel)",
   "language": "python",
   "name": "python3"
  },
  "language_info": {
   "codemirror_mode": {
    "name": "ipython",
    "version": 3
   },
   "file_extension": ".py",
   "mimetype": "text/x-python",
   "name": "python",
   "nbconvert_exporter": "python",
   "pygments_lexer": "ipython3",
   "version": "3.12.4"
  }
 },
 "nbformat": 4,
 "nbformat_minor": 5
}
