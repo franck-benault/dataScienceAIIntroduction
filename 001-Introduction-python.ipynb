{
 "cells": [
  {
   "cell_type": "markdown",
   "id": "4a215def-c8c6-4ea5-8009-d1534927bc5e",
   "metadata": {
    "jp-MarkdownHeadingCollapsed": true
   },
   "source": [
    "# Imports"
   ]
  },
  {
   "cell_type": "code",
   "execution_count": null,
   "id": "f7f58b57-f81b-473d-ab66-6cc25e0c51ff",
   "metadata": {},
   "outputs": [],
   "source": [
    "# hiding the warnings\n",
    "\n",
    "import warnings\n",
    "warnings.filterwarnings('ignore')\n",
    "\n",
    "print('done')"
   ]
  },
  {
   "cell_type": "code",
   "execution_count": null,
   "id": "7ec9301c-c07e-46bb-9a27-cf51cc6ec10f",
   "metadata": {},
   "outputs": [],
   "source": [
    "# Check the version of the lbraries\n",
    "# base libraries\n",
    "import numpy as np\n",
    "import pandas as pd\n",
    "\n",
    "# diagram libraries\n",
    "import matplotlib\n",
    "import seaborn as sns\n",
    "\n",
    "# machine learning libraries\n",
    "import sklearn\n",
    "import nltk\n",
    "\n",
    "print('Basic libraries')\n",
    "print('Numpy Version ',np.__version__)\n",
    "print('Pandas Version ',pd.__version__)\n",
    "print('-------------------------------------')\n",
    "print('Diagram libraries')\n",
    "print('Matplotlib Version ',matplotlib.__version__)\n",
    "print('Seaborn Version ',sns.__version__)\n",
    "print('-------------------------------------')\n",
    "print('Machine learning libraries')\n",
    "print('Sklearn Version ',sklearn.__version__)\n",
    "\n",
    "print('-------------------------------------')\n",
    "print('Natural language processing libraries')\n",
    "print('Nltk Version ',nltk.__version__)\n"
   ]
  },
  {
   "cell_type": "markdown",
   "id": "bcf3bda4-744f-4c2f-936f-5bd1aca1dbb7",
   "metadata": {
    "jp-MarkdownHeadingCollapsed": true
   },
   "source": [
    "# Random"
   ]
  },
  {
   "cell_type": "code",
   "execution_count": null,
   "id": "cbeb2a04-8601-4c42-8136-540b34d4db18",
   "metadata": {},
   "outputs": [],
   "source": [
    "# Python3 program explaining work\n",
    "# of randint() function\n",
    "\n",
    "# imports random module\n",
    "import random\n",
    "\n",
    "start=0\n",
    "end=10\n",
    "r1 = random.randint(start, end)\n",
    "print(\"Random number between 0 and 10 is % s\" % (r1))\n",
    "\n"
   ]
  },
  {
   "cell_type": "code",
   "execution_count": null,
   "id": "78d811ce-a87a-4c76-a424-faeb874b3ef5",
   "metadata": {},
   "outputs": [],
   "source": []
  }
 ],
 "metadata": {
  "kernelspec": {
   "display_name": "Python 3 (ipykernel)",
   "language": "python",
   "name": "python3"
  },
  "language_info": {
   "codemirror_mode": {
    "name": "ipython",
    "version": 3
   },
   "file_extension": ".py",
   "mimetype": "text/x-python",
   "name": "python",
   "nbconvert_exporter": "python",
   "pygments_lexer": "ipython3",
   "version": "3.12.4"
  }
 },
 "nbformat": 4,
 "nbformat_minor": 5
}
